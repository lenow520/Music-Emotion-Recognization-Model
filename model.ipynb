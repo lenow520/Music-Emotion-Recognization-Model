{
 "cells": [
  {
   "cell_type": "code",
   "execution_count": 2,
   "metadata": {
    "scrolled": true
   },
   "outputs": [],
   "source": [
    "from __future__ import absolute_import, division, print_function, unicode_literals\n",
    "import tensorflow as tf\n",
    "from keras import layers, models\n",
    "import matplotlib.pyplot as plt\n",
    "import numpy as np\n",
    "from sklearn.model_selection import train_test_split\n",
    "\n",
    "filepath = 'D:\\\\user\\\\Downloads\\\\audio-classification-master\\\\audio-classification-master\\\\'\n",
    "# Set Parameters \n",
    "class_count = 4\n",
    "\n",
    "#load data\n",
    "X = np.load(filepath+'feat1.npy')\n",
    "y = np.load(filepath+'label1.npy').ravel()\n",
    "\n",
    "X_train, X_test, y_train, y_test = train_test_split(X, y, test_size=0.3, random_state=233)"
   ]
  },
  {
   "cell_type": "code",
   "execution_count": 4,
   "metadata": {
    "scrolled": true
   },
   "outputs": [
    {
     "name": "stdout",
     "output_type": "stream",
     "text": [
      "[[-7.07260103e+01  1.27898805e+02 -2.70113388e+01 ... -1.40260744e-03\n",
      "  -5.15055520e-04 -2.78041299e-03]\n",
      " [-3.90626370e+02  1.69965418e+02  5.99807873e+01 ...  2.26014636e-02\n",
      "   6.73064329e-03  1.91348086e-02]\n",
      " [-2.29567607e+02  1.92607241e+02 -3.68560736e+01 ... -1.84190349e-01\n",
      "   9.15980842e-03  3.28283854e-02]\n",
      " ...\n",
      " [-1.98314453e+02  9.99620420e+01 -3.98361609e+01 ...  5.28596828e-02\n",
      "   1.92141477e-02  1.47879642e-02]\n",
      " [-3.29633657e+02  1.64028334e+02  8.94119518e+00 ...  2.33184931e-01\n",
      "   1.28791737e-02  2.50692981e-02]\n",
      " [-4.26755731e+02  2.17659644e+02  2.07491995e+01 ...  4.10540740e-02\n",
      "   4.10276732e-03 -3.51616790e-03]]\n",
      "(420, 193)\n",
      "(420,)\n",
      "(180, 193)\n",
      "(180,)\n"
     ]
    }
   ],
   "source": [
    "print(X_train)\n",
    "\n",
    "print(X_train.shape)\n",
    "print(y_train.shape)\n",
    "print(X_test.shape)\n",
    "print(y_test.shape)"
   ]
  },
  {
   "cell_type": "code",
   "execution_count": 5,
   "metadata": {},
   "outputs": [
    {
     "name": "stdout",
     "output_type": "stream",
     "text": [
      "(420, 193, 1)\n",
      "(420, 4)\n",
      "(180, 193, 1)\n",
      "(180, 4)\n"
     ]
    }
   ],
   "source": [
    "# Convert label to onehot\n",
    "y_train = tf.keras.utils.to_categorical(y_train - 1, num_classes=class_count)\n",
    "y_test = tf.keras.utils.to_categorical(y_test - 1, num_classes=class_count)\n",
    "\n",
    "X_train = np.expand_dims(X_train, axis=2)\n",
    "X_test = np.expand_dims(X_test, axis=2)\n",
    "\n",
    "print(X_train.shape)\n",
    "print(y_train.shape)\n",
    "print(X_test.shape)\n",
    "print(y_test.shape)"
   ]
  },
  {
   "cell_type": "code",
   "execution_count": 9,
   "metadata": {},
   "outputs": [
    {
     "name": "stdout",
     "output_type": "stream",
     "text": [
      "WARNING:tensorflow:From C:\\Users\\user\\Anaconda3\\lib\\site-packages\\keras\\backend\\tensorflow_backend.py:74: The name tf.get_default_graph is deprecated. Please use tf.compat.v1.get_default_graph instead.\n",
      "\n",
      "WARNING:tensorflow:From C:\\Users\\user\\Anaconda3\\lib\\site-packages\\keras\\backend\\tensorflow_backend.py:517: The name tf.placeholder is deprecated. Please use tf.compat.v1.placeholder instead.\n",
      "\n",
      "WARNING:tensorflow:From C:\\Users\\user\\Anaconda3\\lib\\site-packages\\keras\\backend\\tensorflow_backend.py:4138: The name tf.random_uniform is deprecated. Please use tf.random.uniform instead.\n",
      "\n",
      "WARNING:tensorflow:From C:\\Users\\user\\Anaconda3\\lib\\site-packages\\keras\\backend\\tensorflow_backend.py:3976: The name tf.nn.max_pool is deprecated. Please use tf.nn.max_pool2d instead.\n",
      "\n",
      "WARNING:tensorflow:From C:\\Users\\user\\Anaconda3\\lib\\site-packages\\keras\\backend\\tensorflow_backend.py:133: The name tf.placeholder_with_default is deprecated. Please use tf.compat.v1.placeholder_with_default instead.\n",
      "\n",
      "WARNING:tensorflow:From C:\\Users\\user\\Anaconda3\\lib\\site-packages\\keras\\backend\\tensorflow_backend.py:3445: calling dropout (from tensorflow.python.ops.nn_ops) with keep_prob is deprecated and will be removed in a future version.\n",
      "Instructions for updating:\n",
      "Please use `rate` instead of `keep_prob`. Rate should be set to `rate = 1 - keep_prob`.\n",
      "WARNING:tensorflow:From C:\\Users\\user\\Anaconda3\\lib\\site-packages\\keras\\optimizers.py:790: The name tf.train.Optimizer is deprecated. Please use tf.compat.v1.train.Optimizer instead.\n",
      "\n",
      "WARNING:tensorflow:From C:\\Users\\user\\Anaconda3\\lib\\site-packages\\keras\\backend\\tensorflow_backend.py:3295: The name tf.log is deprecated. Please use tf.math.log instead.\n",
      "\n",
      "_________________________________________________________________\n",
      "Layer (type)                 Output Shape              Param #   \n",
      "=================================================================\n",
      "conv1d_1 (Conv1D)            (None, 191, 64)           256       \n",
      "_________________________________________________________________\n",
      "max_pooling1d_1 (MaxPooling1 (None, 63, 64)            0         \n",
      "_________________________________________________________________\n",
      "conv1d_2 (Conv1D)            (None, 61, 128)           24704     \n",
      "_________________________________________________________________\n",
      "global_average_pooling1d_1 ( (None, 128)               0         \n",
      "_________________________________________________________________\n",
      "dense_1 (Dense)              (None, 128)               16512     \n",
      "_________________________________________________________________\n",
      "dropout_1 (Dropout)          (None, 128)               0         \n",
      "_________________________________________________________________\n",
      "dense_2 (Dense)              (None, 4)                 516       \n",
      "=================================================================\n",
      "Total params: 41,988\n",
      "Trainable params: 41,988\n",
      "Non-trainable params: 0\n",
      "_________________________________________________________________\n"
     ]
    }
   ],
   "source": [
    "# Build the Neural Network\n",
    "from keras import regularizers\n",
    "from  tensorflow.python.keras.layers import BatchNormalization\n",
    "\n",
    "model = models.Sequential()\n",
    "model.add(layers.Conv1D(64, 3, activation='relu', input_shape=(193,1)))\n",
    "model.add(layers.MaxPooling1D(3))\n",
    "\n",
    "model.add(layers.Conv1D(128, 3, activation='relu'))\n",
    "model.add(layers.GlobalAveragePooling1D())\n",
    "\n",
    "\n",
    "model.add(layers.Dense(128, activation='relu',kernel_regularizer=regularizers.l2(0.001)))\n",
    "model.add(layers.Dropout(0.3))\n",
    "\n",
    "model.add(layers.Dense(class_count, activation='softmax'))\n",
    "\n",
    "model.compile(loss='categorical_crossentropy', optimizer='adam', metrics=['accuracy'])\n",
    "model.summary()\n"
   ]
  },
  {
   "cell_type": "code",
   "execution_count": 11,
   "metadata": {},
   "outputs": [
    {
     "name": "stdout",
     "output_type": "stream",
     "text": [
      "WARNING:tensorflow:From C:\\Users\\user\\Anaconda3\\lib\\site-packages\\tensorflow\\python\\ops\\math_grad.py:1250: add_dispatch_support.<locals>.wrapper (from tensorflow.python.ops.array_ops) is deprecated and will be removed in a future version.\n",
      "Instructions for updating:\n",
      "Use tf.where in 2.0, which has the same broadcast rule as np.where\n",
      "Epoch 1/100\n",
      "420/420 [==============================] - 1s 3ms/step - loss: 1.4878 - acc: 0.3262\n",
      "Epoch 2/100\n",
      "420/420 [==============================] - 0s 785us/step - loss: 1.3365 - acc: 0.4238\n",
      "Epoch 3/100\n",
      "420/420 [==============================] - 0s 732us/step - loss: 1.2292 - acc: 0.4786\n",
      "Epoch 4/100\n",
      "420/420 [==============================] - 0s 745us/step - loss: 1.1925 - acc: 0.4571\n",
      "Epoch 5/100\n",
      "420/420 [==============================] - 0s 718us/step - loss: 1.1931 - acc: 0.4714\n",
      "Epoch 6/100\n",
      "420/420 [==============================] - 0s 968us/step - loss: 1.1596 - acc: 0.5310\n",
      "Epoch 7/100\n",
      "420/420 [==============================] - 0s 905us/step - loss: 1.1144 - acc: 0.5262\n",
      "Epoch 8/100\n",
      "420/420 [==============================] - 0s 743us/step - loss: 1.1070 - acc: 0.5643\n",
      "Epoch 9/100\n",
      "420/420 [==============================] - 0s 788us/step - loss: 1.0899 - acc: 0.5833\n",
      "Epoch 10/100\n",
      "420/420 [==============================] - 0s 739us/step - loss: 1.0972 - acc: 0.5310\n",
      "Epoch 11/100\n",
      "420/420 [==============================] - 0s 933us/step - loss: 1.0547 - acc: 0.5929\n",
      "Epoch 12/100\n",
      "420/420 [==============================] - 0s 1ms/step - loss: 1.0792 - acc: 0.5500\n",
      "Epoch 13/100\n",
      "420/420 [==============================] - 0s 846us/step - loss: 1.0672 - acc: 0.5786\n",
      "Epoch 14/100\n",
      "420/420 [==============================] - 0s 795us/step - loss: 1.0355 - acc: 0.5810\n",
      "Epoch 15/100\n",
      "420/420 [==============================] - 0s 824us/step - loss: 1.0643 - acc: 0.5476\n",
      "Epoch 16/100\n",
      "420/420 [==============================] - 0s 800us/step - loss: 1.1006 - acc: 0.5333\n",
      "Epoch 17/100\n",
      "420/420 [==============================] - 0s 774us/step - loss: 1.0234 - acc: 0.5738\n",
      "Epoch 18/100\n",
      "420/420 [==============================] - 0s 959us/step - loss: 1.0213 - acc: 0.6048\n",
      "Epoch 19/100\n",
      "420/420 [==============================] - 0s 781us/step - loss: 1.0190 - acc: 0.6024\n",
      "Epoch 20/100\n",
      "420/420 [==============================] - 0s 968us/step - loss: 1.0061 - acc: 0.6000\n",
      "Epoch 21/100\n",
      "420/420 [==============================] - 0s 1ms/step - loss: 0.9926 - acc: 0.6048\n",
      "Epoch 22/100\n",
      "420/420 [==============================] - 0s 855us/step - loss: 1.0067 - acc: 0.5833\n",
      "Epoch 23/100\n",
      "420/420 [==============================] - 0s 959us/step - loss: 0.9997 - acc: 0.5833\n",
      "Epoch 24/100\n",
      "420/420 [==============================] - 0s 945us/step - loss: 1.0101 - acc: 0.5714\n",
      "Epoch 25/100\n",
      "420/420 [==============================] - 0s 867us/step - loss: 0.9746 - acc: 0.6143\n",
      "Epoch 26/100\n",
      "420/420 [==============================] - 0s 988us/step - loss: 0.9980 - acc: 0.6048\n",
      "Epoch 27/100\n",
      "420/420 [==============================] - 0s 1ms/step - loss: 0.9951 - acc: 0.6071\n",
      "Epoch 28/100\n",
      "420/420 [==============================] - 0s 855us/step - loss: 1.0140 - acc: 0.5929\n",
      "Epoch 29/100\n",
      "420/420 [==============================] - 0s 916us/step - loss: 0.9515 - acc: 0.6167\n",
      "Epoch 30/100\n",
      "420/420 [==============================] - 0s 722us/step - loss: 0.9521 - acc: 0.6119\n",
      "Epoch 31/100\n",
      "420/420 [==============================] - 0s 891us/step - loss: 0.9568 - acc: 0.5976\n",
      "Epoch 32/100\n",
      "420/420 [==============================] - 0s 640us/step - loss: 0.9780 - acc: 0.5952\n",
      "Epoch 33/100\n",
      "420/420 [==============================] - 0s 637us/step - loss: 0.9804 - acc: 0.6048\n",
      "Epoch 34/100\n",
      "420/420 [==============================] - 0s 812us/step - loss: 0.9296 - acc: 0.6429\n",
      "Epoch 35/100\n",
      "420/420 [==============================] - 0s 689us/step - loss: 0.9433 - acc: 0.6143\n",
      "Epoch 36/100\n",
      "420/420 [==============================] - 0s 724us/step - loss: 0.9420 - acc: 0.6143\n",
      "Epoch 37/100\n",
      "420/420 [==============================] - 0s 728us/step - loss: 0.9236 - acc: 0.6214\n",
      "Epoch 38/100\n",
      "420/420 [==============================] - 0s 661us/step - loss: 0.9139 - acc: 0.6262\n",
      "Epoch 39/100\n",
      "420/420 [==============================] - 0s 643us/step - loss: 0.9223 - acc: 0.6190\n",
      "Epoch 40/100\n",
      "420/420 [==============================] - 0s 639us/step - loss: 0.9069 - acc: 0.6286\n",
      "Epoch 41/100\n",
      "420/420 [==============================] - 0s 678us/step - loss: 0.8947 - acc: 0.6310\n",
      "Epoch 42/100\n",
      "420/420 [==============================] - 0s 643us/step - loss: 0.9083 - acc: 0.6214\n",
      "Epoch 43/100\n",
      "420/420 [==============================] - 0s 643us/step - loss: 0.9007 - acc: 0.6500\n",
      "Epoch 44/100\n",
      "420/420 [==============================] - 0s 657us/step - loss: 0.9102 - acc: 0.6190\n",
      "Epoch 45/100\n",
      "420/420 [==============================] - 0s 678us/step - loss: 0.8957 - acc: 0.6452\n",
      "Epoch 46/100\n",
      "420/420 [==============================] - 0s 758us/step - loss: 0.8868 - acc: 0.6143\n",
      "Epoch 47/100\n",
      "420/420 [==============================] - 0s 654us/step - loss: 0.8801 - acc: 0.6381\n",
      "Epoch 48/100\n",
      "420/420 [==============================] - 0s 712us/step - loss: 0.8699 - acc: 0.6357\n",
      "Epoch 49/100\n",
      "420/420 [==============================] - 0s 795us/step - loss: 0.9002 - acc: 0.6190\n",
      "Epoch 50/100\n",
      "420/420 [==============================] - ETA: 0s - loss: 0.8765 - acc: 0.655 - 0s 731us/step - loss: 0.8763 - acc: 0.6595\n",
      "Epoch 51/100\n",
      "420/420 [==============================] - 0s 776us/step - loss: 0.8265 - acc: 0.6643\n",
      "Epoch 52/100\n",
      "420/420 [==============================] - 0s 657us/step - loss: 0.8496 - acc: 0.6500\n",
      "Epoch 53/100\n",
      "420/420 [==============================] - 0s 820us/step - loss: 0.8397 - acc: 0.6690\n",
      "Epoch 54/100\n",
      "420/420 [==============================] - 0s 659us/step - loss: 0.8421 - acc: 0.6452\n",
      "Epoch 55/100\n",
      "420/420 [==============================] - 0s 650us/step - loss: 0.8597 - acc: 0.6500\n",
      "Epoch 56/100\n",
      "420/420 [==============================] - 0s 690us/step - loss: 0.8011 - acc: 0.6548\n",
      "Epoch 57/100\n",
      "420/420 [==============================] - 0s 654us/step - loss: 0.8363 - acc: 0.6857\n",
      "Epoch 58/100\n",
      "420/420 [==============================] - 0s 654us/step - loss: 0.8253 - acc: 0.6667\n",
      "Epoch 59/100\n",
      "420/420 [==============================] - 0s 643us/step - loss: 0.8227 - acc: 0.6738\n",
      "Epoch 60/100\n",
      "420/420 [==============================] - 0s 654us/step - loss: 0.8230 - acc: 0.6524\n",
      "Epoch 61/100\n",
      "420/420 [==============================] - 0s 676us/step - loss: 0.8233 - acc: 0.6500\n",
      "Epoch 62/100\n",
      "420/420 [==============================] - 0s 666us/step - loss: 0.7905 - acc: 0.6619\n",
      "Epoch 63/100\n",
      "420/420 [==============================] - 0s 654us/step - loss: 0.7790 - acc: 0.6881\n",
      "Epoch 64/100\n",
      "420/420 [==============================] - 0s 762us/step - loss: 0.7689 - acc: 0.6929\n",
      "Epoch 65/100\n",
      "420/420 [==============================] - 0s 654us/step - loss: 0.8119 - acc: 0.6619\n",
      "Epoch 66/100\n",
      "420/420 [==============================] - 0s 643us/step - loss: 0.7843 - acc: 0.7143\n",
      "Epoch 67/100\n",
      "420/420 [==============================] - 0s 812us/step - loss: 0.8008 - acc: 0.6976\n",
      "Epoch 68/100\n",
      "420/420 [==============================] - 0s 706us/step - loss: 0.7794 - acc: 0.7000\n",
      "Epoch 69/100\n",
      "420/420 [==============================] - 0s 657us/step - loss: 0.7950 - acc: 0.6952\n",
      "Epoch 70/100\n",
      "420/420 [==============================] - 0s 643us/step - loss: 0.7451 - acc: 0.7000\n",
      "Epoch 71/100\n",
      "420/420 [==============================] - 0s 690us/step - loss: 0.7655 - acc: 0.6857\n",
      "Epoch 72/100\n",
      "420/420 [==============================] - 0s 828us/step - loss: 0.7839 - acc: 0.6952\n",
      "Epoch 73/100\n",
      "420/420 [==============================] - 0s 651us/step - loss: 0.7517 - acc: 0.7048\n",
      "Epoch 74/100\n",
      "420/420 [==============================] - 0s 655us/step - loss: 0.7604 - acc: 0.7095\n",
      "Epoch 75/100\n",
      "420/420 [==============================] - 0s 651us/step - loss: 0.7305 - acc: 0.7357\n",
      "Epoch 76/100\n",
      "420/420 [==============================] - 0s 654us/step - loss: 0.7330 - acc: 0.7238\n",
      "Epoch 77/100\n",
      "420/420 [==============================] - 0s 654us/step - loss: 0.7349 - acc: 0.7310\n",
      "Epoch 78/100\n",
      "420/420 [==============================] - 0s 669us/step - loss: 0.7080 - acc: 0.7214\n",
      "Epoch 79/100\n",
      "420/420 [==============================] - 0s 666us/step - loss: 0.7041 - acc: 0.7143\n",
      "Epoch 80/100\n",
      "420/420 [==============================] - 0s 861us/step - loss: 0.7093 - acc: 0.7286\n",
      "Epoch 81/100\n",
      "420/420 [==============================] - 0s 680us/step - loss: 0.7072 - acc: 0.7167\n",
      "Epoch 82/100\n",
      "420/420 [==============================] - 0s 730us/step - loss: 0.6931 - acc: 0.7190\n",
      "Epoch 83/100\n",
      "420/420 [==============================] - 0s 643us/step - loss: 0.6777 - acc: 0.7500\n",
      "Epoch 84/100\n",
      "420/420 [==============================] - 0s 654us/step - loss: 0.7311 - acc: 0.7190\n",
      "Epoch 85/100\n",
      "420/420 [==============================] - 0s 642us/step - loss: 0.6801 - acc: 0.7524\n",
      "Epoch 86/100\n",
      "420/420 [==============================] - 0s 643us/step - loss: 0.6945 - acc: 0.7357\n",
      "Epoch 87/100\n",
      "420/420 [==============================] - 0s 704us/step - loss: 0.6667 - acc: 0.7667\n",
      "Epoch 88/100\n",
      "420/420 [==============================] - 0s 923us/step - loss: 0.6656 - acc: 0.7476\n",
      "Epoch 89/100\n",
      "420/420 [==============================] - 0s 782us/step - loss: 0.6439 - acc: 0.7571\n",
      "Epoch 90/100\n",
      "420/420 [==============================] - 0s 702us/step - loss: 0.6546 - acc: 0.7810\n",
      "Epoch 91/100\n",
      "420/420 [==============================] - 0s 826us/step - loss: 0.6938 - acc: 0.7333\n",
      "Epoch 92/100\n",
      "420/420 [==============================] - 0s 674us/step - loss: 0.6613 - acc: 0.7619\n",
      "Epoch 93/100\n",
      "420/420 [==============================] - 0s 666us/step - loss: 0.6767 - acc: 0.7310\n",
      "Epoch 94/100\n",
      "420/420 [==============================] - 1s 1ms/step - loss: 0.6281 - acc: 0.7810\n",
      "Epoch 95/100\n",
      "420/420 [==============================] - 0s 670us/step - loss: 0.6018 - acc: 0.7929\n",
      "Epoch 96/100\n",
      "420/420 [==============================] - 0s 658us/step - loss: 0.6035 - acc: 0.7714\n",
      "Epoch 97/100\n",
      "420/420 [==============================] - 0s 875us/step - loss: 0.5885 - acc: 0.7714\n",
      "Epoch 98/100\n",
      "420/420 [==============================] - 0s 759us/step - loss: 0.6169 - acc: 0.7667\n",
      "Epoch 99/100\n",
      "420/420 [==============================] - 0s 765us/step - loss: 0.5986 - acc: 0.7810\n",
      "Epoch 100/100\n",
      "420/420 [==============================] - 0s 677us/step - loss: 0.5989 - acc: 0.7833\n"
     ]
    }
   ],
   "source": [
    "#Train model\n",
    "history = model.fit(X_train, y_train,batch_size=8, epochs=100)"
   ]
  },
  {
   "cell_type": "code",
   "execution_count": 12,
   "metadata": {},
   "outputs": [
    {
     "data": {
      "image/png": "[encoded data removed]",
      "text/plain": [
       "<Figure size 432x288 with 1 Axes>"
      ]
     },
     "metadata": {
      "needs_background": "light"
     },
     "output_type": "display_data"
    },
    {
     "data": {
      "image/png": "[encoded data removed]",
      "text/plain": [
       "<Figure size 432x288 with 1 Axes>"
      ]
     },
     "metadata": {
      "needs_background": "light"
     },
     "output_type": "display_data"
    }
   ],
   "source": [
    "#plot history \n",
    "plt.subplot(2, 1, 1)\n",
    "plt.plot(history.history['loss'])\n",
    "plt.title('Model loss')\n",
    "plt.ylabel('loss')\n",
    "plt.xlabel('epoch')\n",
    "plt.show()\n",
    "plt.subplot(2, 1, 2)\n",
    "plt.plot(history.history['acc'])\n",
    "plt.title('Model accuracy')\n",
    "plt.ylabel('accuracy')\n",
    "plt.xlabel('epoch')\n",
    "plt.show()"
   ]
  },
  {
   "cell_type": "code",
   "execution_count": 13,
   "metadata": {},
   "outputs": [
    {
     "name": "stdout",
     "output_type": "stream",
     "text": [
      "(180,)\n",
      "(180,)\n",
      "[[36  5  2  8]\n",
      " [16 17  2  7]\n",
      " [ 5  4 23 10]\n",
      " [ 7  4 15 19]]\n"
     ]
    }
   ],
   "source": [
    "from sklearn.metrics import confusion_matrix\n",
    "import matplotlib.pyplot as plt\n",
    "ypredict = model.predict(X_test)\n",
    "ytest=np.argmax(y_test, axis=1)\n",
    "ypredict=np.argmax(ypredict, axis=1)\n",
    "print(ypredict.shape)\n",
    "print(ytest.shape)\n",
    "conf = confusion_matrix(ytest, ypredict)\n",
    "print(conf)"
   ]
  },
  {
   "cell_type": "code",
   "execution_count": 14,
   "metadata": {},
   "outputs": [
    {
     "name": "stdout",
     "output_type": "stream",
     "text": [
      "Test loss: 1.171067522631751\n",
      "Test accuracy: 0.5277777764532301\n"
     ]
    }
   ],
   "source": [
    "#evaluate model(testset)\n",
    "loss, acc = model.evaluate(X_test, y_test, verbose=30)\n",
    "print('Test loss:', loss)\n",
    "print('Test accuracy:', acc)"
   ]
  },
  {
   "cell_type": "code",
   "execution_count": null,
   "metadata": {},
   "outputs": [],
   "source": []
  },
  {
   "cell_type": "code",
   "execution_count": null,
   "metadata": {},
   "outputs": [],
   "source": []
  },
  {
   "cell_type": "code",
   "execution_count": null,
   "metadata": {},
   "outputs": [],
   "source": []
  }
 ],
 "metadata": {
  "kernelspec": {
   "display_name": "Python 3",
   "language": "python",
   "name": "python3"
  },
  "language_info": {
   "codemirror_mode": {
    "name": "ipython",
    "version": 3
   },
   "file_extension": ".py",
   "mimetype": "text/x-python",
   "name": "python",
   "nbconvert_exporter": "python",
   "pygments_lexer": "ipython3",
   "version": "3.7.1"
  }
 },
 "nbformat": 4,
 "nbformat_minor": 2
}
